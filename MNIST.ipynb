{
  "nbformat": 4,
  "nbformat_minor": 0,
  "metadata": {
    "colab": {
      "name": "MNIST.ipynb",
      "provenance": [],
      "include_colab_link": true
    },
    "kernelspec": {
      "name": "python3",
      "display_name": "Python 3"
    }
  },
  "cells": [
    {
      "cell_type": "markdown",
      "metadata": {
        "id": "view-in-github",
        "colab_type": "text"
      },
      "source": [
        "<a href=\"https://colab.research.google.com/github/cleysonl/Pytorch/blob/master/MNIST.ipynb\" target=\"_parent\"><img src=\"https://colab.research.google.com/assets/colab-badge.svg\" alt=\"Open In Colab\"/></a>"
      ]
    },
    {
      "cell_type": "code",
      "metadata": {
        "id": "o4XrF3GUtPgV",
        "colab_type": "code",
        "colab": {
          "base_uri": "https://localhost:8080/",
          "height": 139
        },
        "outputId": "0504297e-d467-46a0-ddfa-5f8cfc278b95"
      },
      "source": [
        "!pip install torch torchvision"
      ],
      "execution_count": 1,
      "outputs": [
        {
          "output_type": "stream",
          "text": [
            "Requirement already satisfied: torch in /usr/local/lib/python3.6/dist-packages (1.3.0+cu100)\n",
            "Requirement already satisfied: torchvision in /usr/local/lib/python3.6/dist-packages (0.4.1+cu100)\n",
            "Requirement already satisfied: numpy in /usr/local/lib/python3.6/dist-packages (from torch) (1.17.3)\n",
            "Requirement already satisfied: pillow>=4.1.1 in /usr/local/lib/python3.6/dist-packages (from torchvision) (4.3.0)\n",
            "Requirement already satisfied: six in /usr/local/lib/python3.6/dist-packages (from torchvision) (1.12.0)\n",
            "Requirement already satisfied: olefile in /usr/local/lib/python3.6/dist-packages (from pillow>=4.1.1->torchvision) (0.46)\n"
          ],
          "name": "stdout"
        }
      ]
    },
    {
      "cell_type": "code",
      "metadata": {
        "id": "ycRdMXoW5Y4E",
        "colab_type": "code",
        "colab": {}
      },
      "source": [
        "import torch\n",
        "import matplotlib.pyplot as plt\n",
        "import numpy as np\n",
        "from torchvision import datasets, transforms"
      ],
      "execution_count": 0,
      "outputs": []
    },
    {
      "cell_type": "code",
      "metadata": {
        "id": "8U17L_k5Mqrf",
        "colab_type": "code",
        "colab": {}
      },
      "source": [
        "# Chain transformations \n",
        "# 1)transforms.ToTensor(): Convert our numpy array in the range of 0 to 256 to a tensor in a range of 0 to 1\n",
        "# 2)transforms.Normalize: Normalize the values for each tensor of image size, channel, height and width. Change the range from 0 to 1 to -1 to 1\n",
        "transform = transforms.Compose([transforms.ToTensor(),\n",
        "                                transforms.Normalize((0.5, ),(0.5, ))\n",
        "                                ])\n",
        "training_dataset = datasets.MNIST(root='./data', train=True, download = True, transform=transform)\n",
        "# Training loader is used to divide the dataset in batches\n",
        "training_loader = torch.utils.data.DataLoader(dataset= training_dataset, batch_size=100, shuffle=True)"
      ],
      "execution_count": 0,
      "outputs": []
    },
    {
      "cell_type": "code",
      "metadata": {
        "id": "ybWqY3dyPOid",
        "colab_type": "code",
        "colab": {}
      },
      "source": [
        "# Plot a tensor image (color, width, height)\n",
        "def im_convert(tensor):\n",
        "  image = tensor.clone().detach().numpy()\n",
        "  # transpose to (width,height, color)\n",
        "  image = image.transpose(1, 2, 0)\n",
        "  print(image.shape)\n",
        "  # image = image * np.array((0.5, )) + np.array((0.5, ))\n",
        "  # We need to get rid of the third dimension \n",
        "  image = image[:,:,0]\n",
        "  # To ensure that the range of the image is between 0 and 1\n",
        "  image = image.clip(0,1)\n",
        "  return image"
      ],
      "execution_count": 0,
      "outputs": []
    },
    {
      "cell_type": "code",
      "metadata": {
        "id": "H5nYIql0Rtvg",
        "colab_type": "code",
        "colab": {
          "base_uri": "https://localhost:8080/",
          "height": 641
        },
        "outputId": "a44d729b-5f7d-4abb-ef5f-687d3c6722fa"
      },
      "source": [
        "dataiter= iter(training_loader)\n",
        "images, labels = dataiter.next()\n",
        "fig = plt.figure(figsize = (25,4))\n",
        "\n",
        "for idx in np.arange(20):\n",
        "  ax= fig.add_subplot(2, 10, idx+1)\n",
        "  plt.imshow(im_convert(images[idx]))\n",
        "  ax.set_title([labels[idx].item()])"
      ],
      "execution_count": 5,
      "outputs": [
        {
          "output_type": "stream",
          "text": [
            "(28, 28, 1)\n",
            "(28, 28, 1)\n",
            "(28, 28, 1)\n",
            "(28, 28, 1)\n",
            "(28, 28, 1)\n",
            "(28, 28, 1)\n",
            "(28, 28, 1)\n",
            "(28, 28, 1)\n",
            "(28, 28, 1)\n",
            "(28, 28, 1)\n",
            "(28, 28, 1)\n",
            "(28, 28, 1)\n",
            "(28, 28, 1)\n",
            "(28, 28, 1)\n",
            "(28, 28, 1)\n",
            "(28, 28, 1)\n",
            "(28, 28, 1)\n",
            "(28, 28, 1)\n",
            "(28, 28, 1)\n",
            "(28, 28, 1)\n"
          ],
          "name": "stdout"
        },
        {
          "output_type": "display_data",
          "data": {
            "image/png": "[encoded data removed]",
            "text/plain": [
              "<Figure size 1800x288 with 20 Axes>"
            ]
          },
          "metadata": {
            "tags": []
          }
        }
      ]
    },
    {
      "cell_type": "code",
      "metadata": {
        "id": "AA8cAlRWSZk7",
        "colab_type": "code",
        "colab": {}
      },
      "source": [
        ""
      ],
      "execution_count": 0,
      "outputs": []
    }
  ]
}