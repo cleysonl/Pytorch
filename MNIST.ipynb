{
  "nbformat": 4,
  "nbformat_minor": 0,
  "metadata": {
    "colab": {
      "name": "MNIST.ipynb",
      "provenance": [],
      "include_colab_link": true
    },
    "kernelspec": {
      "name": "python3",
      "display_name": "Python 3"
    },
    "accelerator": "GPU"
  },
  "cells": [
    {
      "cell_type": "markdown",
      "metadata": {
        "id": "view-in-github",
        "colab_type": "text"
      },
      "source": [
        "<a href=\"https://colab.research.google.com/github/cleysonl/Pytorch/blob/master/MNIST.ipynb\" target=\"_parent\"><img src=\"https://colab.research.google.com/assets/colab-badge.svg\" alt=\"Open In Colab\"/></a>"
      ]
    },
    {
      "cell_type": "markdown",
      "metadata": {
        "id": "6yxFB7Tix_iT",
        "colab_type": "text"
      },
      "source": [
        "# **Image Recognition - PyTorch**"
      ]
    },
    {
      "cell_type": "code",
      "metadata": {
        "id": "o4XrF3GUtPgV",
        "colab_type": "code",
        "colab": {
          "base_uri": "https://localhost:8080/",
          "height": 139
        },
        "outputId": "ec0b5349-f67c-4bc7-8101-410b09ec685c"
      },
      "source": [
        "!pip install torch torchvision"
      ],
      "execution_count": 1,
      "outputs": [
        {
          "output_type": "stream",
          "text": [
            "Requirement already satisfied: torch in /usr/local/lib/python3.6/dist-packages (1.3.0+cu100)\n",
            "Requirement already satisfied: torchvision in /usr/local/lib/python3.6/dist-packages (0.4.1+cu100)\n",
            "Requirement already satisfied: numpy in /usr/local/lib/python3.6/dist-packages (from torch) (1.17.3)\n",
            "Requirement already satisfied: pillow>=4.1.1 in /usr/local/lib/python3.6/dist-packages (from torchvision) (4.3.0)\n",
            "Requirement already satisfied: six in /usr/local/lib/python3.6/dist-packages (from torchvision) (1.12.0)\n",
            "Requirement already satisfied: olefile in /usr/local/lib/python3.6/dist-packages (from pillow>=4.1.1->torchvision) (0.46)\n"
          ],
          "name": "stdout"
        }
      ]
    },
    {
      "cell_type": "code",
      "metadata": {
        "id": "ycRdMXoW5Y4E",
        "colab_type": "code",
        "colab": {}
      },
      "source": [
        "import torch\n",
        "import matplotlib.pyplot as plt\n",
        "import numpy as np\n",
        "import torch.nn.functional as F\n",
        "from torch import nn\n",
        "from torchvision import datasets, transforms"
      ],
      "execution_count": 0,
      "outputs": []
    },
    {
      "cell_type": "markdown",
      "metadata": {
        "id": "VVmrAZkOFu1Z",
        "colab_type": "text"
      },
      "source": [
        "## **Transformations**"
      ]
    },
    {
      "cell_type": "code",
      "metadata": {
        "id": "8U17L_k5Mqrf",
        "colab_type": "code",
        "colab": {
          "base_uri": "https://localhost:8080/",
          "height": 275
        },
        "outputId": "6cfabbfa-d7d5-4895-e1dc-26f1d0ea9fad"
      },
      "source": [
        "# Chain transformations \n",
        "# 1) transforms.Resize(): Make sure all the images are the same size 28x28\n",
        "# 2)transforms.ToTensor(): Convert our numpy array in the range of 0 to 256 to a tensor in a range of 0 to 1\n",
        "# 2)transforms.Normalize: Normalize the values for each tensor of image size, channel, height and width. Change the range from 0 to 1 to -1 to 1\n",
        "transform = transforms.Compose([transforms.Resize((28,28)),\n",
        "                                transforms.ToTensor(),\n",
        "                                transforms.Normalize((0.5, ),(0.5, ))\n",
        "                                ])\n",
        "training_dataset = datasets.MNIST(root='./data', train=True, download = True, transform=transform)\n",
        "validation_dataset = datasets.MNIST(root='./data', train=False, download = True, transform=transform)\n",
        "\n",
        "# Training loader is used to divide the dataset in batches\n",
        "training_loader = torch.utils.data.DataLoader(dataset= training_dataset, batch_size=100, shuffle=True)\n",
        "validation_loader = torch.utils.data.DataLoader(dataset = validation_dataset, batch_size = 100, shuffle = False)"
      ],
      "execution_count": 3,
      "outputs": [
        {
          "output_type": "stream",
          "text": [
            "\r0it [00:00, ?it/s]"
          ],
          "name": "stderr"
        },
        {
          "output_type": "stream",
          "text": [
            "Downloading http://yann.lecun.com/exdb/mnist/train-images-idx3-ubyte.gz to ./data/MNIST/raw/train-images-idx3-ubyte.gz\n"
          ],
          "name": "stdout"
        },
        {
          "output_type": "stream",
          "text": [
            "9920512it [00:01, 8963088.85it/s]                            \n"
          ],
          "name": "stderr"
        },
        {
          "output_type": "stream",
          "text": [
            "Extracting ./data/MNIST/raw/train-images-idx3-ubyte.gz to ./data/MNIST/raw\n"
          ],
          "name": "stdout"
        },
        {
          "output_type": "stream",
          "text": [
            "  0%|          | 0/28881 [00:00<?, ?it/s]"
          ],
          "name": "stderr"
        },
        {
          "output_type": "stream",
          "text": [
            "Downloading http://yann.lecun.com/exdb/mnist/train-labels-idx1-ubyte.gz to ./data/MNIST/raw/train-labels-idx1-ubyte.gz\n"
          ],
          "name": "stdout"
        },
        {
          "output_type": "stream",
          "text": [
            "32768it [00:00, 135579.48it/s]           \n",
            "  0%|          | 0/1648877 [00:00<?, ?it/s]"
          ],
          "name": "stderr"
        },
        {
          "output_type": "stream",
          "text": [
            "Extracting ./data/MNIST/raw/train-labels-idx1-ubyte.gz to ./data/MNIST/raw\n",
            "Downloading http://yann.lecun.com/exdb/mnist/t10k-images-idx3-ubyte.gz to ./data/MNIST/raw/t10k-images-idx3-ubyte.gz\n"
          ],
          "name": "stdout"
        },
        {
          "output_type": "stream",
          "text": [
            "1654784it [00:00, 2221401.61it/s]                            \n",
            "0it [00:00, ?it/s]"
          ],
          "name": "stderr"
        },
        {
          "output_type": "stream",
          "text": [
            "Extracting ./data/MNIST/raw/t10k-images-idx3-ubyte.gz to ./data/MNIST/raw\n",
            "Downloading http://yann.lecun.com/exdb/mnist/t10k-labels-idx1-ubyte.gz to ./data/MNIST/raw/t10k-labels-idx1-ubyte.gz\n"
          ],
          "name": "stdout"
        },
        {
          "output_type": "stream",
          "text": [
            "8192it [00:00, 45533.95it/s]            \n"
          ],
          "name": "stderr"
        },
        {
          "output_type": "stream",
          "text": [
            "Extracting ./data/MNIST/raw/t10k-labels-idx1-ubyte.gz to ./data/MNIST/raw\n",
            "Processing...\n",
            "Done!\n"
          ],
          "name": "stdout"
        }
      ]
    },
    {
      "cell_type": "markdown",
      "metadata": {
        "id": "6UYIj1LQFoQb",
        "colab_type": "text"
      },
      "source": [
        "## **Numpy Image Conversion Function**"
      ]
    },
    {
      "cell_type": "code",
      "metadata": {
        "id": "ybWqY3dyPOid",
        "colab_type": "code",
        "colab": {}
      },
      "source": [
        "# Plot a tensor image (color, width, height)\n",
        "def im_convert(tensor):\n",
        "  image = tensor.clone().detach().numpy()\n",
        "  # transpose to (width,height, color)\n",
        "  image = image.transpose(1, 2, 0)\n",
        "  print(image.shape)\n",
        "  # image = image * np.array((0.5, )) + np.array((0.5, ))\n",
        "  # We need to get rid of the third dimension \n",
        "  image = image[:,:,0]\n",
        "  # To ensure that the range of the image is between 0 and 1\n",
        "  image = image.clip(0,1)\n",
        "  return image"
      ],
      "execution_count": 0,
      "outputs": []
    },
    {
      "cell_type": "markdown",
      "metadata": {
        "id": "A-Vgn3amFkPO",
        "colab_type": "text"
      },
      "source": [
        "## **Plotting Image Data**"
      ]
    },
    {
      "cell_type": "code",
      "metadata": {
        "id": "H5nYIql0Rtvg",
        "colab_type": "code",
        "colab": {
          "base_uri": "https://localhost:8080/",
          "height": 641
        },
        "outputId": "4becad92-fc88-483d-e284-caa49f7cc90e"
      },
      "source": [
        "dataiter= iter(training_loader)\n",
        "images, labels = dataiter.next()\n",
        "fig = plt.figure(figsize = (25,4))\n",
        "\n",
        "for idx in np.arange(20):\n",
        "  ax= fig.add_subplot(2, 10, idx+1)\n",
        "  plt.imshow(im_convert(images[idx]))\n",
        "  ax.set_title([labels[idx].item()])"
      ],
      "execution_count": 5,
      "outputs": [
        {
          "output_type": "stream",
          "text": [
            "(28, 28, 1)\n",
            "(28, 28, 1)\n",
            "(28, 28, 1)\n",
            "(28, 28, 1)\n",
            "(28, 28, 1)\n",
            "(28, 28, 1)\n",
            "(28, 28, 1)\n",
            "(28, 28, 1)\n",
            "(28, 28, 1)\n",
            "(28, 28, 1)\n",
            "(28, 28, 1)\n",
            "(28, 28, 1)\n",
            "(28, 28, 1)\n",
            "(28, 28, 1)\n",
            "(28, 28, 1)\n",
            "(28, 28, 1)\n",
            "(28, 28, 1)\n",
            "(28, 28, 1)\n",
            "(28, 28, 1)\n",
            "(28, 28, 1)\n"
          ],
          "name": "stdout"
        },
        {
          "output_type": "display_data",
          "data": {
            "image/png": "[encoded data removed]",
            "text/plain": [
              "<Figure size 1800x288 with 20 Axes>"
            ]
          },
          "metadata": {
            "tags": []
          }
        }
      ]
    },
    {
      "cell_type": "markdown",
      "metadata": {
        "id": "24hKFtm6RLF5",
        "colab_type": "text"
      },
      "source": [
        "## **Model Class Constructor**"
      ]
    },
    {
      "cell_type": "code",
      "metadata": {
        "id": "AA8cAlRWSZk7",
        "colab_type": "code",
        "colab": {}
      },
      "source": [
        "class Classifier(nn.Module):\n",
        "  def __init__(self, D_in, H1, H2, D_out):\n",
        "    super().__init__()\n",
        "    self.linear1= nn.Linear(D_in, H1)\n",
        "    self.linear2= nn.Linear(H1, H2)\n",
        "    self.linear3 = nn.Linear(H2, D_out)\n",
        "  def forward(self, x):\n",
        "    x= F.relu(self.linear1(x))\n",
        "    x= F.relu(self.linear2(x))\n",
        "    x= self.linear3(x)\n",
        "    return x\n",
        "\n",
        "# 28*28 = 784 (size of the image)\n",
        "model = Classifier(784,125,65,10)"
      ],
      "execution_count": 0,
      "outputs": []
    },
    {
      "cell_type": "markdown",
      "metadata": {
        "id": "lAcwTz6IRU6w",
        "colab_type": "text"
      },
      "source": [
        "## **Loss and Optimizer**"
      ]
    },
    {
      "cell_type": "code",
      "metadata": {
        "id": "sdpg3L4Byq2S",
        "colab_type": "code",
        "colab": {}
      },
      "source": [
        "criterion = nn.CrossEntropyLoss()\n",
        "optimizer = torch.optim.Adam(model.parameters(), lr = 0.0001)"
      ],
      "execution_count": 0,
      "outputs": []
    },
    {
      "cell_type": "markdown",
      "metadata": {
        "id": "bX6yVY8sFXDE",
        "colab_type": "text"
      },
      "source": [
        "## **Training Process**"
      ]
    },
    {
      "cell_type": "code",
      "metadata": {
        "id": "GtT6yWZ9zHh9",
        "colab_type": "code",
        "colab": {
          "base_uri": "https://localhost:8080/",
          "height": 629
        },
        "outputId": "17e62843-9a2f-4e8d-9f63-d79d22d8dd7d"
      },
      "source": [
        "epochs = 12\n",
        "# List to save the losses for each epoch\n",
        "running_loss_history = []\n",
        "running_corrects_history = []\n",
        "val_running_loss_history = []\n",
        "val_running_corrects_history = []\n",
        "\n",
        "for i in range(epochs):\n",
        "  # Variable used to acummulate the losses for each batch in an epoch\n",
        "  running_loss = 0.0\n",
        "  running_corrects = 0.0\n",
        "  val_running_loss = 0.0\n",
        "  val_running_corrects = 0.0\n",
        "\n",
        "  for inputs, labels in training_loader: \n",
        "    # Reshape inputs with: inputs.view(inputs.shape[0]= 1, -1 (28*28 = 784))\n",
        "    inputs = inputs.view(inputs.shape[0], -1)\n",
        "    outputs = model(inputs)\n",
        "    loss = criterion(outputs, labels)\n",
        "\n",
        "    optimizer.zero_grad()\n",
        "    loss.backward()\n",
        "    optimizer.step()\n",
        "\n",
        "    _, preds = torch.max(outputs,1)\n",
        "    running_corrects += torch.sum(preds == labels.data)\n",
        "    running_loss += loss.item()\n",
        "\n",
        "  else:\n",
        "    # To save memory add the following line ( it sets temporariy the grad flags into False)\n",
        "    with torch.no_grad():\n",
        "    # Run our model on the validation set \n",
        "      for val_inputs, val_labels in validation_loader:\n",
        "        val_inputs = val_inputs.view(val_inputs.shape[0], -1)\n",
        "        val_outputs = model(val_inputs)\n",
        "        val_loss = criterion(val_outputs, val_labels)\n",
        "\n",
        "        _, val_preds = torch.max(val_outputs,1)\n",
        "        val_running_corrects += torch.sum(val_preds == val_labels.data)\n",
        "        val_running_loss += val_loss.item()\n",
        "\n",
        "\n",
        "    epoch_loss = running_loss/len(training_loader)\n",
        "    epoch_acc = running_corrects.float()/len(training_loader)\n",
        "    running_loss_history.append(epoch_loss)\n",
        "    running_corrects_history.append(epoch_acc)\n",
        "\n",
        "    val_epoch_loss = val_running_loss/len(validation_loader)\n",
        "    val_epoch_acc = val_running_corrects.float()/len(validation_loader)\n",
        "    val_running_loss_history.append(val_epoch_loss)\n",
        "    val_running_corrects_history.append(val_epoch_acc)\n",
        "    print('epoch:', i+1)\n",
        "\n",
        "    print('Training loss: {:.4f}, acc: {:.4f}'.format(epoch_loss, epoch_acc.item()))\n",
        "    print('Validation loss: {:.4f}, acc: {:.4f}'.format(val_epoch_loss, val_epoch_acc.item()))\n"
      ],
      "execution_count": 8,
      "outputs": [
        {
          "output_type": "stream",
          "text": [
            "epoch: 1\n",
            "Training loss: 0.9390, acc: 77.5333\n",
            "Validation loss: 0.4165, acc: 88.7200\n",
            "epoch: 2\n",
            "Training loss: 0.3722, acc: 89.5317\n",
            "Validation loss: 0.3229, acc: 90.5000\n",
            "epoch: 3\n",
            "Training loss: 0.3118, acc: 91.0100\n",
            "Validation loss: 0.2819, acc: 91.8800\n",
            "epoch: 4\n",
            "Training loss: 0.2788, acc: 91.9150\n",
            "Validation loss: 0.2562, acc: 92.5900\n",
            "epoch: 5\n",
            "Training loss: 0.2533, acc: 92.7067\n",
            "Validation loss: 0.2339, acc: 93.2300\n",
            "epoch: 6\n",
            "Training loss: 0.2320, acc: 93.3450\n",
            "Validation loss: 0.2161, acc: 93.6900\n",
            "epoch: 7\n",
            "Training loss: 0.2131, acc: 93.9117\n",
            "Validation loss: 0.2050, acc: 94.0100\n",
            "epoch: 8\n",
            "Training loss: 0.1962, acc: 94.4283\n",
            "Validation loss: 0.1868, acc: 94.6200\n",
            "epoch: 9\n",
            "Training loss: 0.1827, acc: 94.8183\n",
            "Validation loss: 0.1772, acc: 94.8600\n",
            "epoch: 10\n",
            "Training loss: 0.1697, acc: 95.1800\n",
            "Validation loss: 0.1658, acc: 95.1900\n",
            "epoch: 11\n",
            "Training loss: 0.1592, acc: 95.4750\n",
            "Validation loss: 0.1598, acc: 95.3500\n",
            "epoch: 12\n",
            "Training loss: 0.1493, acc: 95.7450\n",
            "Validation loss: 0.1533, acc: 95.4300\n"
          ],
          "name": "stdout"
        }
      ]
    },
    {
      "cell_type": "markdown",
      "metadata": {
        "id": "dvniPLpbJOpu",
        "colab_type": "text"
      },
      "source": [
        "## **Plotting Loss**"
      ]
    },
    {
      "cell_type": "code",
      "metadata": {
        "id": "OyS_lnZL5Sh4",
        "colab_type": "code",
        "colab": {
          "base_uri": "https://localhost:8080/",
          "height": 282
        },
        "outputId": "794682ab-4c45-466a-aa06-02efae1edb83"
      },
      "source": [
        "plt.plot(running_loss_history, label = 'training loss')\n",
        "plt.plot(val_running_loss_history, label = 'validation loss')\n",
        "plt.legend()"
      ],
      "execution_count": 9,
      "outputs": [
        {
          "output_type": "execute_result",
          "data": {
            "text/plain": [
              "<matplotlib.legend.Legend at 0x7f1a1ae36da0>"
            ]
          },
          "metadata": {
            "tags": []
          },
          "execution_count": 9
        },
        {
          "output_type": "display_data",
          "data": {
            "image/png": "[encoded data removed]",
            "text/plain": [
              "<Figure size 432x288 with 1 Axes>"
            ]
          },
          "metadata": {
            "tags": []
          }
        }
      ]
    },
    {
      "cell_type": "markdown",
      "metadata": {
        "id": "FiBZrwbjJT-u",
        "colab_type": "text"
      },
      "source": [
        "## **Plotting Accuracy**"
      ]
    },
    {
      "cell_type": "code",
      "metadata": {
        "id": "7KgbmnDQ9uTZ",
        "colab_type": "code",
        "colab": {
          "base_uri": "https://localhost:8080/",
          "height": 282
        },
        "outputId": "0317675d-dcfe-4b88-c573-c45df39dec57"
      },
      "source": [
        "plt.plot(running_corrects_history, label = 'training accuracy')\n",
        "plt.plot(val_running_corrects_history, label = 'validation accuracy')\n",
        "plt.legend()"
      ],
      "execution_count": 10,
      "outputs": [
        {
          "output_type": "execute_result",
          "data": {
            "text/plain": [
              "<matplotlib.legend.Legend at 0x7f1a1ad816a0>"
            ]
          },
          "metadata": {
            "tags": []
          },
          "execution_count": 10
        },
        {
          "output_type": "display_data",
          "data": {
            "image/png": "[encoded data removed]",
            "text/plain": [
              "<Figure size 432x288 with 1 Axes>"
            ]
          },
          "metadata": {
            "tags": []
          }
        }
      ]
    },
    {
      "cell_type": "markdown",
      "metadata": {
        "id": "Fyln-1Ru_7du",
        "colab_type": "text"
      },
      "source": [
        "## **Pillow Installation**"
      ]
    },
    {
      "cell_type": "code",
      "metadata": {
        "id": "IbeHq2rdLFpm",
        "colab_type": "code",
        "colab": {
          "base_uri": "https://localhost:8080/",
          "height": 326
        },
        "outputId": "b9882190-fe19-4dd5-eb25-5faa367ba776"
      },
      "source": [
        "!pip3 install pillow==4.0.0"
      ],
      "execution_count": 11,
      "outputs": [
        {
          "output_type": "stream",
          "text": [
            "Collecting pillow==4.0.0\n",
            "\u001b[?25l  Downloading https://files.pythonhosted.org/packages/37/e8/b3fbf87b0188d22246678f8cd61e23e31caa1769ebc06f1664e2e5fe8a17/Pillow-4.0.0-cp36-cp36m-manylinux1_x86_64.whl (5.6MB)\n",
            "\u001b[K     |████████████████████████████████| 5.6MB 6.3MB/s \n",
            "\u001b[?25hRequirement already satisfied: olefile in /usr/local/lib/python3.6/dist-packages (from pillow==4.0.0) (0.46)\n",
            "\u001b[31mERROR: torchvision 0.4.1+cu100 has requirement pillow>=4.1.1, but you'll have pillow 4.0.0 which is incompatible.\u001b[0m\n",
            "\u001b[31mERROR: scikit-image 0.15.0 has requirement pillow>=4.3.0, but you'll have pillow 4.0.0 which is incompatible.\u001b[0m\n",
            "\u001b[31mERROR: albumentations 0.1.12 has requirement imgaug<0.2.7,>=0.2.5, but you'll have imgaug 0.2.9 which is incompatible.\u001b[0m\n",
            "Installing collected packages: pillow\n",
            "  Found existing installation: Pillow 4.3.0\n",
            "    Uninstalling Pillow-4.3.0:\n",
            "      Successfully uninstalled Pillow-4.3.0\n",
            "Successfully installed pillow-4.0.0\n"
          ],
          "name": "stdout"
        },
        {
          "output_type": "display_data",
          "data": {
            "application/vnd.colab-display-data+json": {
              "pip_warning": {
                "packages": [
                  "PIL"
                ]
              }
            }
          },
          "metadata": {
            "tags": []
          }
        }
      ]
    },
    {
      "cell_type": "code",
      "metadata": {
        "id": "DKaA8iirLOGz",
        "colab_type": "code",
        "colab": {}
      },
      "source": [
        "import PIL.ImageOps"
      ],
      "execution_count": 0,
      "outputs": []
    },
    {
      "cell_type": "markdown",
      "metadata": {
        "id": "EXZmrCn6LUSb",
        "colab_type": "text"
      },
      "source": [
        "## **Show Image**"
      ]
    },
    {
      "cell_type": "code",
      "metadata": {
        "id": "gDAcd-zHLTff",
        "colab_type": "code",
        "colab": {
          "base_uri": "https://localhost:8080/",
          "height": 286
        },
        "outputId": "ad23e722-63e1-4d9c-8a8e-d62dc45d6ac5"
      },
      "source": [
        "import requests\n",
        "from PIL import Image\n",
        "\n",
        "url = 'https://images.homedepot-static.com/productImages/007164ea-d47e-4f66-8d8c-fd9f621984a2/svn/architectural-mailboxes-house-letters-numbers-3585b-5-64_1000.jpg' \n",
        "response = requests.get(url, stream = True)\n",
        "img = Image.open(response.raw)\n",
        "plt.imshow(img)"
      ],
      "execution_count": 13,
      "outputs": [
        {
          "output_type": "execute_result",
          "data": {
            "text/plain": [
              "<matplotlib.image.AxesImage at 0x7f1a1ac8be48>"
            ]
          },
          "metadata": {
            "tags": []
          },
          "execution_count": 13
        },
        {
          "output_type": "display_data",
          "data": {
            "image/png": "[encoded data removed]",
            "text/plain": [
              "<Figure size 432x288 with 1 Axes>"
            ]
          },
          "metadata": {
            "tags": []
          }
        }
      ]
    },
    {
      "cell_type": "markdown",
      "metadata": {
        "id": "z0AVOYl3Lyss",
        "colab_type": "text"
      },
      "source": [
        "## **Pre-processing image**"
      ]
    },
    {
      "cell_type": "code",
      "metadata": {
        "id": "DeZoZXlPL59y",
        "colab_type": "code",
        "colab": {
          "base_uri": "https://localhost:8080/",
          "height": 299
        },
        "outputId": "c9591836-038f-4ce9-eedd-a374ebd95e2d"
      },
      "source": [
        "# we need to invert the colors like in out training and validation set -> number white and background black\n",
        "img = PIL.ImageOps.invert(img)\n",
        "# Convert to a binary black & white image\n",
        "img = img.convert('1')\n",
        "#Transform the image to the right size\n",
        "img = transform(img)\n",
        "plt.imshow(im_convert(img))"
      ],
      "execution_count": 14,
      "outputs": [
        {
          "output_type": "stream",
          "text": [
            "(28, 28, 1)\n"
          ],
          "name": "stdout"
        },
        {
          "output_type": "execute_result",
          "data": {
            "text/plain": [
              "<matplotlib.image.AxesImage at 0x7f1a187e74a8>"
            ]
          },
          "metadata": {
            "tags": []
          },
          "execution_count": 14
        },
        {
          "output_type": "display_data",
          "data": {
            "image/png": "[encoded data removed]",
            "text/plain": [
              "<Figure size 432x288 with 1 Axes>"
            ]
          },
          "metadata": {
            "tags": []
          }
        }
      ]
    },
    {
      "cell_type": "code",
      "metadata": {
        "id": "va6atwOsONOx",
        "colab_type": "code",
        "colab": {
          "base_uri": "https://localhost:8080/",
          "height": 34
        },
        "outputId": "e12f3a9e-4c1d-4ada-db57-183b74fc5f2c"
      },
      "source": [
        "# Copied this from the training process and changed name of variables\n",
        "img = img.view(img.shape[0],-1)\n",
        "output = model(img)\n",
        "_, pred = torch.max(output,1)\n",
        "print(pred.item())"
      ],
      "execution_count": 15,
      "outputs": [
        {
          "output_type": "stream",
          "text": [
            "5\n"
          ],
          "name": "stdout"
        }
      ]
    },
    {
      "cell_type": "markdown",
      "metadata": {
        "id": "EFDTxGNmWvYF",
        "colab_type": "text"
      },
      "source": [
        "## **Validation Prediction**"
      ]
    },
    {
      "cell_type": "code",
      "metadata": {
        "id": "5KDVqSZKVUw1",
        "colab_type": "code",
        "colab": {
          "base_uri": "https://localhost:8080/",
          "height": 628
        },
        "outputId": "70a4d9ee-7e1b-448b-cdea-e3d0ade0f7f0"
      },
      "source": [
        "dataiter= iter(validation_loader)\n",
        "images, labels = dataiter.next()\n",
        "images_ = images.view(images.shape[0],-1)\n",
        "output = model(images_)\n",
        "_, preds = torch.max(output, 1)\n",
        "\n",
        "fig = plt.figure(figsize = (25,4))\n",
        "\n",
        "for idx in np.arange(20):\n",
        "  ax = fig.add_subplot(2, 10, idx+1, xticks=[], yticks=[])\n",
        "  plt.imshow(im_convert(images[idx]))\n",
        "  ax.set_title(\"{} ({})\".format(str(preds[idx].item()), str(labels[idx].item())), color=(\"green\" if preds[idx]==labels[idx] else \"red\"))"
      ],
      "execution_count": 16,
      "outputs": [
        {
          "output_type": "stream",
          "text": [
            "(28, 28, 1)\n",
            "(28, 28, 1)\n",
            "(28, 28, 1)\n",
            "(28, 28, 1)\n",
            "(28, 28, 1)\n",
            "(28, 28, 1)\n",
            "(28, 28, 1)\n",
            "(28, 28, 1)\n",
            "(28, 28, 1)\n",
            "(28, 28, 1)\n",
            "(28, 28, 1)\n",
            "(28, 28, 1)\n",
            "(28, 28, 1)\n",
            "(28, 28, 1)\n",
            "(28, 28, 1)\n",
            "(28, 28, 1)\n",
            "(28, 28, 1)\n",
            "(28, 28, 1)\n",
            "(28, 28, 1)\n",
            "(28, 28, 1)\n"
          ],
          "name": "stdout"
        },
        {
          "output_type": "display_data",
          "data": {
            "image/png": "[encoded data removed]",
            "text/plain": [
              "<Figure size 1800x288 with 20 Axes>"
            ]
          },
          "metadata": {
            "tags": []
          }
        }
      ]
    },
    {
      "cell_type": "code",
      "metadata": {
        "id": "3uD5b6ehWreb",
        "colab_type": "code",
        "colab": {}
      },
      "source": [
        ""
      ],
      "execution_count": 0,
      "outputs": []
    }
  ]
}