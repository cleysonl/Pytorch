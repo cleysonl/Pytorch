{
  "nbformat": 4,
  "nbformat_minor": 0,
  "metadata": {
    "colab": {
      "name": " Linear_regression.ipynb",
      "provenance": [],
      "include_colab_link": true
    },
    "kernelspec": {
      "name": "python3",
      "display_name": "Python 3"
    },
    "accelerator": "GPU"
  },
  "cells": [
    {
      "cell_type": "markdown",
      "metadata": {
        "id": "view-in-github",
        "colab_type": "text"
      },
      "source": [
        "<a href=\"https://colab.research.google.com/github/cleysonl/Pytorch/blob/master/Linear_regression.ipynb\" target=\"_parent\"><img src=\"https://colab.research.google.com/assets/colab-badge.svg\" alt=\"Open In Colab\"/></a>"
      ]
    },
    {
      "cell_type": "code",
      "metadata": {
        "id": "74dTzBR0LJj_",
        "colab_type": "code",
        "outputId": "8544d497-0f0f-447f-d8f0-6f0efefcf402",
        "colab": {
          "base_uri": "https://localhost:8080/",
          "height": 51
        }
      },
      "source": [
        "!pip3 install torch"
      ],
      "execution_count": 1,
      "outputs": [
        {
          "output_type": "stream",
          "text": [
            "Requirement already satisfied: torch in /usr/local/lib/python3.6/dist-packages (1.3.0+cu100)\n",
            "Requirement already satisfied: numpy in /usr/local/lib/python3.6/dist-packages (from torch) (1.17.3)\n"
          ],
          "name": "stdout"
        }
      ]
    },
    {
      "cell_type": "code",
      "metadata": {
        "id": "8d_drbOBMFfQ",
        "colab_type": "code",
        "colab": {}
      },
      "source": [
        "import torch"
      ],
      "execution_count": 0,
      "outputs": []
    },
    {
      "cell_type": "code",
      "metadata": {
        "id": "C13wUK09RVAo",
        "colab_type": "code",
        "colab": {}
      },
      "source": [
        "w = torch.tensor(2.0,requires_grad=True)\n",
        "b = torch.tensor(3.0, requires_grad=True)\n",
        "\n",
        "def forward(x):\n",
        "  y=w*x+b\n",
        "  return y"
      ],
      "execution_count": 0,
      "outputs": []
    },
    {
      "cell_type": "code",
      "metadata": {
        "id": "PjfmfHZZRq9i",
        "colab_type": "code",
        "outputId": "ce2b26a9-0390-4e9a-bcd6-b8996f8a13c4",
        "colab": {
          "base_uri": "https://localhost:8080/",
          "height": 51
        }
      },
      "source": [
        "x= torch.tensor([[1.0],[2.0]])\n",
        "forward(x)"
      ],
      "execution_count": 4,
      "outputs": [
        {
          "output_type": "execute_result",
          "data": {
            "text/plain": [
              "tensor([[5.],\n",
              "        [7.]], grad_fn=<AddBackward0>)"
            ]
          },
          "metadata": {
            "tags": []
          },
          "execution_count": 4
        }
      ]
    },
    {
      "cell_type": "markdown",
      "metadata": {
        "id": "nAlfAqqgVA96",
        "colab_type": "text"
      },
      "source": [
        "### Linear Class"
      ]
    },
    {
      "cell_type": "code",
      "metadata": {
        "id": "Iy1sCkpLVCfM",
        "colab_type": "code",
        "outputId": "b27f08c5-76aa-4e88-e021-aeea7d640e86",
        "colab": {
          "base_uri": "https://localhost:8080/",
          "height": 34
        }
      },
      "source": [
        "from torch.nn import Linear\n",
        "torch.manual_seed(1)"
      ],
      "execution_count": 5,
      "outputs": [
        {
          "output_type": "execute_result",
          "data": {
            "text/plain": [
              "<torch._C.Generator at 0x7f3fef8796d0>"
            ]
          },
          "metadata": {
            "tags": []
          },
          "execution_count": 5
        }
      ]
    },
    {
      "cell_type": "code",
      "metadata": {
        "id": "7O2aYDvgVVqc",
        "colab_type": "code",
        "outputId": "c65fb2dd-17b0-48f7-a88e-da9230bb2826",
        "colab": {
          "base_uri": "https://localhost:8080/",
          "height": 68
        }
      },
      "source": [
        "model = Linear(in_features=1,out_features=1)\n",
        "print(model.bias, model.weight)"
      ],
      "execution_count": 6,
      "outputs": [
        {
          "output_type": "stream",
          "text": [
            "Parameter containing:\n",
            "tensor([-0.4414], requires_grad=True) Parameter containing:\n",
            "tensor([[0.5153]], requires_grad=True)\n"
          ],
          "name": "stdout"
        }
      ]
    },
    {
      "cell_type": "code",
      "metadata": {
        "id": "VQ8ZFxFZV0kk",
        "colab_type": "code",
        "outputId": "13a442f9-e80e-49bb-e47b-21459db4be03",
        "colab": {
          "base_uri": "https://localhost:8080/",
          "height": 34
        }
      },
      "source": [
        "x = torch.tensor([2.0])\n",
        "print(model(x))"
      ],
      "execution_count": 7,
      "outputs": [
        {
          "output_type": "stream",
          "text": [
            "tensor([0.5891], grad_fn=<AddBackward0>)\n"
          ],
          "name": "stdout"
        }
      ]
    },
    {
      "cell_type": "markdown",
      "metadata": {
        "id": "GU4nOLFvm_WQ",
        "colab_type": "text"
      },
      "source": [
        "### Custon Modules"
      ]
    },
    {
      "cell_type": "code",
      "metadata": {
        "id": "vLN52huomym8",
        "colab_type": "code",
        "colab": {}
      },
      "source": [
        "import torch.nn as nn\n",
        "\n",
        "# Use inheritance so we can leverage from our base class nn\n",
        "class LR(nn.Module):\n",
        "  def __init__(self, input_size, output_size):\n",
        "    # super().__init__() -> allows for more freedom in the use of multiple inheritance from parent classes\n",
        "    super().__init__()\n",
        "    self.linear= nn.Linear(input_size, output_size)\n",
        "  def forward(self,x):\n",
        "    pred = self.linear(x)\n",
        "    return pred"
      ],
      "execution_count": 0,
      "outputs": []
    },
    {
      "cell_type": "code",
      "metadata": {
        "id": "CcYk6L6nnApu",
        "colab_type": "code",
        "outputId": "285f34f5-67ae-49d0-ca12-521ce10ead39",
        "colab": {
          "base_uri": "https://localhost:8080/",
          "height": 68
        }
      },
      "source": [
        "torch.manual_seed(1)\n",
        "model = LR(1,1)\n",
        "print(list(model.parameters()))"
      ],
      "execution_count": 9,
      "outputs": [
        {
          "output_type": "stream",
          "text": [
            "[Parameter containing:\n",
            "tensor([[0.5153]], requires_grad=True), Parameter containing:\n",
            "tensor([-0.4414], requires_grad=True)]\n"
          ],
          "name": "stdout"
        }
      ]
    },
    {
      "cell_type": "code",
      "metadata": {
        "id": "yxW7VK0bpThm",
        "colab_type": "code",
        "outputId": "b8d5bdac-84dd-4f42-f449-2a5b4f22839d",
        "colab": {
          "base_uri": "https://localhost:8080/",
          "height": 51
        }
      },
      "source": [
        "x = torch.tensor([[1.0],[2.0]])\n",
        "print(model.forward(x))"
      ],
      "execution_count": 10,
      "outputs": [
        {
          "output_type": "stream",
          "text": [
            "tensor([[0.0739],\n",
            "        [0.5891]], grad_fn=<AddmmBackward>)\n"
          ],
          "name": "stdout"
        }
      ]
    },
    {
      "cell_type": "markdown",
      "metadata": {
        "id": "UH8mqFhVqzDS",
        "colab_type": "text"
      },
      "source": [
        "### Creating Dataset"
      ]
    },
    {
      "cell_type": "code",
      "metadata": {
        "id": "byMkSCCqqFBp",
        "colab_type": "code",
        "colab": {}
      },
      "source": [
        "import matplotlib.pyplot as plt\n",
        "import numpy as np"
      ],
      "execution_count": 0,
      "outputs": []
    },
    {
      "cell_type": "code",
      "metadata": {
        "id": "gLQuWWmC44uK",
        "colab_type": "code",
        "outputId": "a066f46c-1681-4321-c8d3-97c3b64fdafa",
        "colab": {
          "base_uri": "https://localhost:8080/",
          "height": 296
        }
      },
      "source": [
        "X = torch.randn(100,1)*10\n",
        "y=X + 3*torch.randn(100,1)\n",
        "plt.plot(X.numpy(),y.numpy(),'o')\n",
        "plt.ylabel('y')\n",
        "plt.xlabel('x')\n"
      ],
      "execution_count": 12,
      "outputs": [
        {
          "output_type": "execute_result",
          "data": {
            "text/plain": [
              "Text(0.5, 0, 'x')"
            ]
          },
          "metadata": {
            "tags": []
          },
          "execution_count": 12
        },
        {
          "output_type": "display_data",
          "data": {
            "image/png": "[encoded data removed]",
            "text/plain": [
              "<Figure size 432x288 with 1 Axes>"
            ]
          },
          "metadata": {
            "tags": []
          }
        }
      ]
    },
    {
      "cell_type": "code",
      "metadata": {
        "id": "_pmokfJa43BN",
        "colab_type": "code",
        "colab": {}
      },
      "source": [
        "# Use inheritance so we can leverage from our base class nn\n",
        "class LR(nn.Module):\n",
        "  def __init__(self, input_size, output_size):\n",
        "    # super().__init__() -> allows for more freedom in the use of multiple inheritance from parent classes\n",
        "    super().__init__()\n",
        "    self.linear= nn.Linear(input_size, output_size)\n",
        "  def forward(self,x):\n",
        "    pred = self.linear(x)\n",
        "    return pred"
      ],
      "execution_count": 0,
      "outputs": []
    },
    {
      "cell_type": "code",
      "metadata": {
        "id": "WCjWPK_O42K3",
        "colab_type": "code",
        "outputId": "9ff5c6c8-61ca-493d-9f30-72dcb9ad5c27",
        "colab": {
          "base_uri": "https://localhost:8080/",
          "height": 68
        }
      },
      "source": [
        "torch.manual_seed(1)\n",
        "model = LR(1,1)\n",
        "print(model)"
      ],
      "execution_count": 14,
      "outputs": [
        {
          "output_type": "stream",
          "text": [
            "LR(\n",
            "  (linear): Linear(in_features=1, out_features=1, bias=True)\n",
            ")\n"
          ],
          "name": "stdout"
        }
      ]
    },
    {
      "cell_type": "code",
      "metadata": {
        "id": "p5-GKyyU6JMu",
        "colab_type": "code",
        "outputId": "59fcec1c-1e56-4c96-9468-4cdc4ae2d786",
        "colab": {
          "base_uri": "https://localhost:8080/",
          "height": 85
        }
      },
      "source": [
        "[w,b] = model.parameters()\n",
        "print(w, b)\n",
        "w1 = w[0][0].item()\n",
        "b1 = b[0].item()\n",
        "print(w1,b1)\n"
      ],
      "execution_count": 15,
      "outputs": [
        {
          "output_type": "stream",
          "text": [
            "Parameter containing:\n",
            "tensor([[0.5153]], requires_grad=True) Parameter containing:\n",
            "tensor([-0.4414], requires_grad=True)\n",
            "0.5152631998062134 -0.44137823581695557\n"
          ],
          "name": "stdout"
        }
      ]
    },
    {
      "cell_type": "code",
      "metadata": {
        "id": "pz6e25jN8Dag",
        "colab_type": "code",
        "colab": {}
      },
      "source": [
        "def get_params():\n",
        "  return (w[0][0].item(),b[0].item())"
      ],
      "execution_count": 0,
      "outputs": []
    },
    {
      "cell_type": "code",
      "metadata": {
        "id": "WwAolz1O-BzI",
        "colab_type": "code",
        "colab": {}
      },
      "source": [
        "def plot_fit(title):\n",
        "  plt.title = title \n",
        "  w1, b1 = get_params()\n",
        "  x1 = np.array([-30,30])\n",
        "  y1 = w1*x1 + b1\n",
        "  plt.plot(x1, y1, 'r')\n",
        "  plt.scatter(X,y)\n",
        "  plt.show()\n",
        "  "
      ],
      "execution_count": 0,
      "outputs": []
    },
    {
      "cell_type": "code",
      "metadata": {
        "id": "wuHDpZT_DO3B",
        "colab_type": "code",
        "outputId": "863cad79-b6d6-412d-b4d7-3d049609897d",
        "colab": {
          "base_uri": "https://localhost:8080/",
          "height": 265
        }
      },
      "source": [
        "plot_fit('Initial Model')"
      ],
      "execution_count": 18,
      "outputs": [
        {
          "output_type": "display_data",
          "data": {
            "image/png": "[encoded data removed]",
            "text/plain": [
              "<Figure size 432x288 with 1 Axes>"
            ]
          },
          "metadata": {
            "tags": []
          }
        }
      ]
    },
    {
      "cell_type": "markdown",
      "metadata": {
        "id": "NQ1PkBBvDdHI",
        "colab_type": "text"
      },
      "source": [
        "### Specifying Loss and Optimizer"
      ]
    },
    {
      "cell_type": "code",
      "metadata": {
        "id": "Il95aEDADfmB",
        "colab_type": "code",
        "colab": {}
      },
      "source": [
        "criterion = nn.MSELoss()\n",
        "optimizer = torch.optim.SGD(model.parameters(), lr = 0.001, )"
      ],
      "execution_count": 0,
      "outputs": []
    },
    {
      "cell_type": "markdown",
      "metadata": {
        "id": "HaVwhLqHHjaG",
        "colab_type": "text"
      },
      "source": [
        "### Training the Model"
      ]
    },
    {
      "cell_type": "code",
      "metadata": {
        "id": "foW5q41SGxOQ",
        "colab_type": "code",
        "colab": {
          "base_uri": "https://localhost:8080/",
          "height": 1000
        },
        "outputId": "8c0fec2c-d454-4155-9e5b-88b24276018b"
      },
      "source": [
        "epochs =100\n",
        "losses = []\n",
        "\n",
        "for i in range(epochs):\n",
        "  y_pred = model.forward(X)\n",
        "  loss = criterion(y_pred, y)\n",
        "  print(\"epoch:\", i, \"loss:\", loss.item())\n",
        "  \n",
        "  losses.append(loss)\n",
        "  optimizer.zero_grad()\n",
        "  loss.backward()\n",
        "  optimizer.step()"
      ],
      "execution_count": 20,
      "outputs": [
        {
          "output_type": "stream",
          "text": [
            "epoch: 0 loss: 36.44832992553711\n",
            "epoch: 1 loss: 25.84706687927246\n",
            "epoch: 2 loss: 19.274919509887695\n",
            "epoch: 3 loss: 15.200485229492188\n",
            "epoch: 4 loss: 12.674422264099121\n",
            "epoch: 5 loss: 11.10822868347168\n",
            "epoch: 6 loss: 10.137072563171387\n",
            "epoch: 7 loss: 9.534791946411133\n",
            "epoch: 8 loss: 9.161184310913086\n",
            "epoch: 9 loss: 8.92933464050293\n",
            "epoch: 10 loss: 8.785365104675293\n",
            "epoch: 11 loss: 8.69587516784668\n",
            "epoch: 12 loss: 8.640158653259277\n",
            "epoch: 13 loss: 8.605380058288574\n",
            "epoch: 14 loss: 8.58358097076416\n",
            "epoch: 15 loss: 8.569830894470215\n",
            "epoch: 16 loss: 8.56106948852539\n",
            "epoch: 17 loss: 8.555403709411621\n",
            "epoch: 18 loss: 8.551656723022461\n",
            "epoch: 19 loss: 8.549099922180176\n",
            "epoch: 20 loss: 8.547282218933105\n",
            "epoch: 21 loss: 8.545924186706543\n",
            "epoch: 22 loss: 8.54485034942627\n",
            "epoch: 23 loss: 8.543954849243164\n",
            "epoch: 24 loss: 8.543170928955078\n",
            "epoch: 25 loss: 8.54245662689209\n",
            "epoch: 26 loss: 8.541786193847656\n",
            "epoch: 27 loss: 8.541145324707031\n",
            "epoch: 28 loss: 8.540521621704102\n",
            "epoch: 29 loss: 8.539910316467285\n",
            "epoch: 30 loss: 8.539307594299316\n",
            "epoch: 31 loss: 8.538711547851562\n",
            "epoch: 32 loss: 8.538119316101074\n",
            "epoch: 33 loss: 8.537531852722168\n",
            "epoch: 34 loss: 8.536946296691895\n",
            "epoch: 35 loss: 8.536364555358887\n",
            "epoch: 36 loss: 8.535784721374512\n",
            "epoch: 37 loss: 8.535207748413086\n",
            "epoch: 38 loss: 8.53463363647461\n",
            "epoch: 39 loss: 8.534061431884766\n",
            "epoch: 40 loss: 8.533491134643555\n",
            "epoch: 41 loss: 8.532923698425293\n",
            "epoch: 42 loss: 8.53235912322998\n",
            "epoch: 43 loss: 8.5317964553833\n",
            "epoch: 44 loss: 8.531234741210938\n",
            "epoch: 45 loss: 8.530675888061523\n",
            "epoch: 46 loss: 8.530119895935059\n",
            "epoch: 47 loss: 8.52956485748291\n",
            "epoch: 48 loss: 8.529012680053711\n",
            "epoch: 49 loss: 8.528463363647461\n",
            "epoch: 50 loss: 8.527915000915527\n",
            "epoch: 51 loss: 8.527369499206543\n",
            "epoch: 52 loss: 8.526825904846191\n",
            "epoch: 53 loss: 8.526284217834473\n",
            "epoch: 54 loss: 8.525745391845703\n",
            "epoch: 55 loss: 8.525208473205566\n",
            "epoch: 56 loss: 8.524673461914062\n",
            "epoch: 57 loss: 8.524140357971191\n",
            "epoch: 58 loss: 8.523609161376953\n",
            "epoch: 59 loss: 8.523079872131348\n",
            "epoch: 60 loss: 8.522554397583008\n",
            "epoch: 61 loss: 8.522028923034668\n",
            "epoch: 62 loss: 8.521506309509277\n",
            "epoch: 63 loss: 8.52098560333252\n",
            "epoch: 64 loss: 8.520467758178711\n",
            "epoch: 65 loss: 8.519950866699219\n",
            "epoch: 66 loss: 8.51943588256836\n",
            "epoch: 67 loss: 8.51892375946045\n",
            "epoch: 68 loss: 8.518413543701172\n",
            "epoch: 69 loss: 8.517905235290527\n",
            "epoch: 70 loss: 8.517398834228516\n",
            "epoch: 71 loss: 8.516894340515137\n",
            "epoch: 72 loss: 8.51639175415039\n",
            "epoch: 73 loss: 8.515891075134277\n",
            "epoch: 74 loss: 8.515392303466797\n",
            "epoch: 75 loss: 8.514896392822266\n",
            "epoch: 76 loss: 8.51440143585205\n",
            "epoch: 77 loss: 8.513909339904785\n",
            "epoch: 78 loss: 8.513418197631836\n",
            "epoch: 79 loss: 8.51292896270752\n",
            "epoch: 80 loss: 8.512441635131836\n",
            "epoch: 81 loss: 8.511957168579102\n",
            "epoch: 82 loss: 8.511474609375\n",
            "epoch: 83 loss: 8.510993003845215\n",
            "epoch: 84 loss: 8.510513305664062\n",
            "epoch: 85 loss: 8.510035514831543\n",
            "epoch: 86 loss: 8.509560585021973\n",
            "epoch: 87 loss: 8.509086608886719\n",
            "epoch: 88 loss: 8.508614540100098\n",
            "epoch: 89 loss: 8.508145332336426\n",
            "epoch: 90 loss: 8.50767707824707\n",
            "epoch: 91 loss: 8.507209777832031\n",
            "epoch: 92 loss: 8.506745338439941\n",
            "epoch: 93 loss: 8.5062837600708\n",
            "epoch: 94 loss: 8.50582218170166\n",
            "epoch: 95 loss: 8.505363464355469\n",
            "epoch: 96 loss: 8.504905700683594\n",
            "epoch: 97 loss: 8.504449844360352\n",
            "epoch: 98 loss: 8.503996849060059\n",
            "epoch: 99 loss: 8.503544807434082\n"
          ],
          "name": "stdout"
        }
      ]
    }
  ]
}