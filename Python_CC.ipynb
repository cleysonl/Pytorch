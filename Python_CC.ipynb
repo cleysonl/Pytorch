{
  "nbformat": 4,
  "nbformat_minor": 0,
  "metadata": {
    "colab": {
      "name": "Python CC.ipynb",
      "provenance": [],
      "include_colab_link": true
    },
    "kernelspec": {
      "name": "python3",
      "display_name": "Python 3"
    }
  },
  "cells": [
    {
      "cell_type": "markdown",
      "metadata": {
        "id": "view-in-github",
        "colab_type": "text"
      },
      "source": [
        "<a href=\"https://colab.research.google.com/github/cleysonl/Pytorch/blob/master/Python_CC.ipynb\" target=\"_parent\"><img src=\"https://colab.research.google.com/assets/colab-badge.svg\" alt=\"Open In Colab\"/></a>"
      ]
    },
    {
      "cell_type": "markdown",
      "metadata": {
        "id": "RMtYFS3OJLNg",
        "colab_type": "text"
      },
      "source": [
        "# Python Crash Course"
      ]
    },
    {
      "cell_type": "code",
      "metadata": {
        "id": "dlvLsJzYI8fs",
        "colab_type": "code",
        "outputId": "3297e4e2-f788-43b8-d9a0-0e9e4d139e66",
        "colab": {
          "base_uri": "https://localhost:8080/",
          "height": 34
        }
      },
      "source": [
        "comparison_operation = 1 < 2 or 2 < 3\n",
        "print(comparison_operation)"
      ],
      "execution_count": 2,
      "outputs": [
        {
          "output_type": "stream",
          "text": [
            "True\n"
          ],
          "name": "stdout"
        }
      ]
    },
    {
      "cell_type": "code",
      "metadata": {
        "id": "E7MHkWlMJNtm",
        "colab_type": "code",
        "outputId": "ffa37326-d452-4a8b-f5e7-4931281dc355",
        "colab": {
          "base_uri": "https://localhost:8080/",
          "height": 34
        }
      },
      "source": [
        "names = ['Thomas', 'Jane', 'James']\n",
        "sorted(names)"
      ],
      "execution_count": 3,
      "outputs": [
        {
          "output_type": "execute_result",
          "data": {
            "text/plain": [
              "['James', 'Jane', 'Thomas']"
            ]
          },
          "metadata": {
            "tags": []
          },
          "execution_count": 3
        }
      ]
    },
    {
      "cell_type": "code",
      "metadata": {
        "id": "lCdhJcjR3T_s",
        "colab_type": "code",
        "outputId": "ee044048-21ea-4dcd-ab67-79ba17864911",
        "colab": {
          "base_uri": "https://localhost:8080/",
          "height": 34
        }
      },
      "source": [
        "'-'.join(names)"
      ],
      "execution_count": 4,
      "outputs": [
        {
          "output_type": "execute_result",
          "data": {
            "text/plain": [
              "'Thomas-Jane-James'"
            ]
          },
          "metadata": {
            "tags": []
          },
          "execution_count": 4
        }
      ]
    },
    {
      "cell_type": "markdown",
      "metadata": {
        "id": "fRvyX5GRUEMy",
        "colab_type": "text"
      },
      "source": [
        "### Tuples"
      ]
    },
    {
      "cell_type": "code",
      "metadata": {
        "id": "GlJUnzmHUF7l",
        "colab_type": "code",
        "colab": {
          "base_uri": "https://localhost:8080/",
          "height": 51
        },
        "outputId": "e921559e-b259-46f3-f291-c7273d245aac"
      },
      "source": [
        "traits = 'tall', 'slim', 'blonde'\n",
        "# A tuple can be written with and without parenthesis\n",
        "bol = traits == ('tall', 'slim', 'blonde')\n",
        "print(bol)\n",
        "height, build, hair =  traits\n",
        "print(height, build)"
      ],
      "execution_count": 6,
      "outputs": [
        {
          "output_type": "stream",
          "text": [
            "True\n",
            "tall slim\n"
          ],
          "name": "stdout"
        }
      ]
    },
    {
      "cell_type": "markdown",
      "metadata": {
        "id": "SJolhDJHU3gF",
        "colab_type": "text"
      },
      "source": [
        "### Sets"
      ]
    },
    {
      "cell_type": "code",
      "metadata": {
        "id": "k5Y8NWDNU437",
        "colab_type": "code",
        "colab": {
          "base_uri": "https://localhost:8080/",
          "height": 34
        },
        "outputId": "34e21345-9662-4319-a47e-fb53b633fea1"
      },
      "source": [
        "duplicate_numbers = [1,1,2,2,3,3]\n",
        "unique_numbers = set(duplicate_numbers)\n",
        "print(unique_numbers)"
      ],
      "execution_count": 7,
      "outputs": [
        {
          "output_type": "stream",
          "text": [
            "{1, 2, 3}\n"
          ],
          "name": "stdout"
        }
      ]
    },
    {
      "cell_type": "code",
      "metadata": {
        "id": "8sYlonLeVQ6a",
        "colab_type": "code",
        "colab": {}
      },
      "source": [
        "unique_numbers.add(6)"
      ],
      "execution_count": 0,
      "outputs": []
    },
    {
      "cell_type": "code",
      "metadata": {
        "id": "yEJIoBs8VfgU",
        "colab_type": "code",
        "colab": {
          "base_uri": "https://localhost:8080/",
          "height": 34
        },
        "outputId": "7eb65b65-9c47-4f63-e1c3-da024b725710"
      },
      "source": [
        "print(unique_numbers)"
      ],
      "execution_count": 10,
      "outputs": [
        {
          "output_type": "stream",
          "text": [
            "{1, 2, 3, 6}\n"
          ],
          "name": "stdout"
        }
      ]
    },
    {
      "cell_type": "code",
      "metadata": {
        "id": "BMy24ra1V_HN",
        "colab_type": "code",
        "colab": {
          "base_uri": "https://localhost:8080/",
          "height": 34
        },
        "outputId": "a3683f6d-3d44-46b3-d717-1c4171115fa6"
      },
      "source": [
        "print(6 in unique_numbers)"
      ],
      "execution_count": 11,
      "outputs": [
        {
          "output_type": "stream",
          "text": [
            "True\n"
          ],
          "name": "stdout"
        }
      ]
    },
    {
      "cell_type": "markdown",
      "metadata": {
        "id": "QVzQNYD4WFBZ",
        "colab_type": "text"
      },
      "source": [
        "### Dictionaries"
      ]
    },
    {
      "cell_type": "code",
      "metadata": {
        "id": "Ezp46sWNWGRp",
        "colab_type": "code",
        "colab": {}
      },
      "source": [
        "inventory = {'bananas': 1.29 , 'apples' : 2.99, 'papayas' : 1.39}"
      ],
      "execution_count": 0,
      "outputs": []
    },
    {
      "cell_type": "code",
      "metadata": {
        "id": "t3-70SgDYxU9",
        "colab_type": "code",
        "colab": {
          "base_uri": "https://localhost:8080/",
          "height": 34
        },
        "outputId": "7c7a2fb3-e30b-4a94-b278-840f7285b204"
      },
      "source": [
        "inventory['bananas'] = 2.99\n",
        "print(inventory['bananas'])"
      ],
      "execution_count": 14,
      "outputs": [
        {
          "output_type": "stream",
          "text": [
            "2.99\n"
          ],
          "name": "stdout"
        }
      ]
    },
    {
      "cell_type": "code",
      "metadata": {
        "id": "EnSmOjqjY-qz",
        "colab_type": "code",
        "colab": {
          "base_uri": "https://localhost:8080/",
          "height": 34
        },
        "outputId": "ddcff681-4a87-412f-8879-e868ec071dbb"
      },
      "source": [
        "strawberries_price = inventory.get('strawberries_price')\n",
        "print(strawberries_price)"
      ],
      "execution_count": 16,
      "outputs": [
        {
          "output_type": "stream",
          "text": [
            "None\n"
          ],
          "name": "stdout"
        }
      ]
    },
    {
      "cell_type": "code",
      "metadata": {
        "id": "EeYKwGylZNKo",
        "colab_type": "code",
        "colab": {
          "base_uri": "https://localhost:8080/",
          "height": 34
        },
        "outputId": "647eb841-f40e-4fa3-dbc2-686b6e71939d"
      },
      "source": [
        "print('celery' in inventory)"
      ],
      "execution_count": 17,
      "outputs": [
        {
          "output_type": "stream",
          "text": [
            "False\n"
          ],
          "name": "stdout"
        }
      ]
    },
    {
      "cell_type": "markdown",
      "metadata": {
        "id": "YhctfIq7Zi9V",
        "colab_type": "text"
      },
      "source": [
        "### if, else"
      ]
    },
    {
      "cell_type": "code",
      "metadata": {
        "id": "Nc54bLtZZd4N",
        "colab_type": "code",
        "colab": {}
      },
      "source": [
        "grocery_items = {'bananas': 2.99, 'apples': 1.29, 'papayas':2.39}"
      ],
      "execution_count": 0,
      "outputs": []
    },
    {
      "cell_type": "code",
      "metadata": {
        "id": "0z90gBKQZnFI",
        "colab_type": "code",
        "colab": {
          "base_uri": "https://localhost:8080/",
          "height": 71
        },
        "outputId": "eab7b44f-b49a-4a59-a384-7bc9fe2c1d4e"
      },
      "source": [
        "item = 'rutabagas'\n",
        "if item in grocery_items:\n",
        "  print('found the', item)\n",
        "else:\n",
        "  print('could not find the', item)\n",
        "  # add the new item to the dictionary\n",
        "  grocery_items.update({item:2.99})\n",
        "  print('just added the item, here is the updated grocery list', grocery_items)"
      ],
      "execution_count": 23,
      "outputs": [
        {
          "output_type": "stream",
          "text": [
            "could not find the rutabagas\n",
            "just added the item, here is the updated grocery list {'bananas': 2.99, 'apples': 1.29, 'papayas': 2.39, 'brussels sprouts': 2.99, 'rutabagas': 2.99}\n"
          ],
          "name": "stdout"
        }
      ]
    },
    {
      "cell_type": "markdown",
      "metadata": {
        "id": "PZiX-zaUjKZe",
        "colab_type": "text"
      },
      "source": [
        "### elif"
      ]
    },
    {
      "cell_type": "code",
      "metadata": {
        "id": "VFziO43FiZhc",
        "colab_type": "code",
        "colab": {
          "base_uri": "https://localhost:8080/",
          "height": 34
        },
        "outputId": "539cb2b7-a390-4189-885b-3e6185431c1a"
      },
      "source": [
        "item, price = 'rutabagas', 3.99\n",
        "if item in grocery_items:\n",
        "  print('found the', item)\n",
        "elif price > 2.99:\n",
        "  print('too expensive for inventory')\n",
        "else:\n",
        "  print('could not find the', item)\n",
        "  # add the new item to the dictionary\n",
        "  grocery_items.update({item:2.99})\n",
        "  print('just added the item, here is the updated grocery list', grocery_items)"
      ],
      "execution_count": 24,
      "outputs": [
        {
          "output_type": "stream",
          "text": [
            "found the rutabagas\n"
          ],
          "name": "stdout"
        }
      ]
    },
    {
      "cell_type": "code",
      "metadata": {
        "id": "YU2cGPa2jLRW",
        "colab_type": "code",
        "colab": {
          "base_uri": "https://localhost:8080/",
          "height": 34
        },
        "outputId": "eabd4da0-0c5f-425c-c57d-f2997334ecf7"
      },
      "source": [
        "daytime = 'dawn'\n",
        "\n",
        "if daytime == 'dawn':\n",
        "  print('still asleep')\n",
        "elif daytime == 'morning':\n",
        "  print('time to go to work')\n",
        "elif daytime == 'noon':\n",
        "  print('time to take a lunch break')\n",
        "elif daytime == 'afternoon':\n",
        "  print('time to go home')\n",
        "else:\n",
        "  print('time to go to sleep')"
      ],
      "execution_count": 25,
      "outputs": [
        {
          "output_type": "stream",
          "text": [
            "still asleep\n"
          ],
          "name": "stdout"
        }
      ]
    },
    {
      "cell_type": "markdown",
      "metadata": {
        "id": "VfcN9MLS4Tgt",
        "colab_type": "text"
      },
      "source": [
        "### Complex Comparisons"
      ]
    },
    {
      "cell_type": "code",
      "metadata": {
        "id": "dhFCLTvZxA3P",
        "colab_type": "code",
        "colab": {}
      },
      "source": [
        "reynolds_number = 1000\n",
        "\n",
        "if 2000< reynolds_number < 10000:\n",
        "  print('flow regime is transitional')"
      ],
      "execution_count": 0,
      "outputs": []
    },
    {
      "cell_type": "code",
      "metadata": {
        "id": "9RhoispO4WkS",
        "colab_type": "code",
        "colab": {}
      },
      "source": [
        "if reynolds_number > 2000 and reynolds_number <10000:\n",
        "  print('flow is transitional')"
      ],
      "execution_count": 0,
      "outputs": []
    },
    {
      "cell_type": "code",
      "metadata": {
        "id": "r5FoEzuR42qh",
        "colab_type": "code",
        "colab": {
          "base_uri": "https://localhost:8080/",
          "height": 34
        },
        "outputId": "bf19fad1-9f55-481b-bc3f-f9b406d47d28"
      },
      "source": [
        "if reynolds_number < 2000 or reynolds_number >= 10000:\n",
        "  print('flow is not transitional')"
      ],
      "execution_count": 31,
      "outputs": [
        {
          "output_type": "stream",
          "text": [
            "flow is not transitional\n"
          ],
          "name": "stdout"
        }
      ]
    },
    {
      "cell_type": "markdown",
      "metadata": {
        "id": "KmjTcJVB5bpY",
        "colab_type": "text"
      },
      "source": [
        "### For Loops"
      ]
    },
    {
      "cell_type": "code",
      "metadata": {
        "id": "31VHcrOj5AWH",
        "colab_type": "code",
        "colab": {
          "base_uri": "https://localhost:8080/",
          "height": 68
        },
        "outputId": "66b7326e-3b99-42dd-9f70-0078553d2aca"
      },
      "source": [
        "months = ['January', 'February', 'March']\n",
        "\n",
        "for month in months:\n",
        "  print(month)"
      ],
      "execution_count": 32,
      "outputs": [
        {
          "output_type": "stream",
          "text": [
            "January\n",
            "February\n",
            "March\n"
          ],
          "name": "stdout"
        }
      ]
    },
    {
      "cell_type": "code",
      "metadata": {
        "id": "TS8t6V_h5dVm",
        "colab_type": "code",
        "colab": {
          "base_uri": "https://localhost:8080/",
          "height": 1000
        },
        "outputId": "fbf767a1-712a-4994-9977-bfc22c220e18"
      },
      "source": [
        "for number in range(1,100):\n",
        "  print('hello')"
      ],
      "execution_count": 34,
      "outputs": [
        {
          "output_type": "stream",
          "text": [
            "hello\n",
            "hello\n",
            "hello\n",
            "hello\n",
            "hello\n",
            "hello\n",
            "hello\n",
            "hello\n",
            "hello\n",
            "hello\n",
            "hello\n",
            "hello\n",
            "hello\n",
            "hello\n",
            "hello\n",
            "hello\n",
            "hello\n",
            "hello\n",
            "hello\n",
            "hello\n",
            "hello\n",
            "hello\n",
            "hello\n",
            "hello\n",
            "hello\n",
            "hello\n",
            "hello\n",
            "hello\n",
            "hello\n",
            "hello\n",
            "hello\n",
            "hello\n",
            "hello\n",
            "hello\n",
            "hello\n",
            "hello\n",
            "hello\n",
            "hello\n",
            "hello\n",
            "hello\n",
            "hello\n",
            "hello\n",
            "hello\n",
            "hello\n",
            "hello\n",
            "hello\n",
            "hello\n",
            "hello\n",
            "hello\n",
            "hello\n",
            "hello\n",
            "hello\n",
            "hello\n",
            "hello\n",
            "hello\n",
            "hello\n",
            "hello\n",
            "hello\n",
            "hello\n",
            "hello\n",
            "hello\n",
            "hello\n",
            "hello\n",
            "hello\n",
            "hello\n",
            "hello\n",
            "hello\n",
            "hello\n",
            "hello\n",
            "hello\n",
            "hello\n",
            "hello\n",
            "hello\n",
            "hello\n",
            "hello\n",
            "hello\n",
            "hello\n",
            "hello\n",
            "hello\n",
            "hello\n",
            "hello\n",
            "hello\n",
            "hello\n",
            "hello\n",
            "hello\n",
            "hello\n",
            "hello\n",
            "hello\n",
            "hello\n",
            "hello\n",
            "hello\n",
            "hello\n",
            "hello\n",
            "hello\n",
            "hello\n",
            "hello\n",
            "hello\n",
            "hello\n",
            "hello\n"
          ],
          "name": "stdout"
        }
      ]
    },
    {
      "cell_type": "code",
      "metadata": {
        "id": "PZaty9xO87gf",
        "colab_type": "code",
        "colab": {
          "base_uri": "https://localhost:8080/",
          "height": 51
        },
        "outputId": "3a6b1c67-d517-4123-e953-cd4e2374975d"
      },
      "source": [
        "movies = {'Titanic': 1987, 'Finding Nemo': 2003}\n",
        "\n",
        "for (key,value) in movies.items():\n",
        "  print('The movie {}, was made in {}'.format(key,value))"
      ],
      "execution_count": 43,
      "outputs": [
        {
          "output_type": "stream",
          "text": [
            "The movie Titanic, was made in 1987\n",
            "The movie Finding Nemo, was made in 2003\n"
          ],
          "name": "stdout"
        }
      ]
    },
    {
      "cell_type": "markdown",
      "metadata": {
        "id": "C0kpJu2yDSSn",
        "colab_type": "text"
      },
      "source": [
        "### Break and Continue"
      ]
    },
    {
      "cell_type": "code",
      "metadata": {
        "id": "9sqeAu78_Zw4",
        "colab_type": "code",
        "colab": {
          "base_uri": "https://localhost:8080/",
          "height": 102
        },
        "outputId": "4f0d7cc8-2cb9-44c2-9949-1a51375a06f5"
      },
      "source": [
        "numbers = list(range(9)) \n",
        "\n",
        "for number in numbers:\n",
        "  if number%2 !=0:\n",
        "    continue\n",
        "  print(number)"
      ],
      "execution_count": 5,
      "outputs": [
        {
          "output_type": "stream",
          "text": [
            "0\n",
            "2\n",
            "4\n",
            "6\n",
            "8\n"
          ],
          "name": "stdout"
        }
      ]
    },
    {
      "cell_type": "code",
      "metadata": {
        "id": "703O1cl7DTth",
        "colab_type": "code",
        "colab": {
          "base_uri": "https://localhost:8080/",
          "height": 34
        },
        "outputId": "048dc0c2-6ebc-4f9f-804f-fe1b578da73d"
      },
      "source": [
        "for number in numbers:\n",
        "  if number%2 !=0:\n",
        "    break\n",
        "  print(number)"
      ],
      "execution_count": 6,
      "outputs": [
        {
          "output_type": "stream",
          "text": [
            "0\n"
          ],
          "name": "stdout"
        }
      ]
    },
    {
      "cell_type": "markdown",
      "metadata": {
        "id": "NufgJStXWQae",
        "colab_type": "text"
      },
      "source": [
        "### Functions"
      ]
    },
    {
      "cell_type": "code",
      "metadata": {
        "id": "FXAutVSsWRe5",
        "colab_type": "code",
        "colab": {
          "base_uri": "https://localhost:8080/",
          "height": 34
        },
        "outputId": "5cfc8f41-7da6-42de-86c5-3c43a88ccc0a"
      },
      "source": [
        "numbers =[1,2,3,4,5]\n",
        "\n",
        "def even_or_odd(number):\n",
        "  return number % 2 ==0\n",
        "\n",
        "print(list(filter(even_or_odd, numbers)))"
      ],
      "execution_count": 7,
      "outputs": [
        {
          "output_type": "stream",
          "text": [
            "[2, 4]\n"
          ],
          "name": "stdout"
        }
      ]
    },
    {
      "cell_type": "code",
      "metadata": {
        "id": "SmcQ1snEfi7O",
        "colab_type": "code",
        "colab": {
          "base_uri": "https://localhost:8080/",
          "height": 34
        },
        "outputId": "5fad0eed-1015-4b84-d90a-5a6969963c49"
      },
      "source": [
        "print(list(filter(lambda number: number % 2 ==0, numbers)))"
      ],
      "execution_count": 8,
      "outputs": [
        {
          "output_type": "stream",
          "text": [
            "[2, 4]\n"
          ],
          "name": "stdout"
        }
      ]
    },
    {
      "cell_type": "code",
      "metadata": {
        "id": "hj8FwP3vf5W_",
        "colab_type": "code",
        "colab": {}
      },
      "source": [
        ""
      ],
      "execution_count": 0,
      "outputs": []
    }
  ]
}