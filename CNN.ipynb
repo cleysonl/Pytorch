{
  "nbformat": 4,
  "nbformat_minor": 0,
  "metadata": {
    "colab": {
      "name": "CNN.ipynb",
      "provenance": [],
      "include_colab_link": true
    },
    "kernelspec": {
      "name": "python3",
      "display_name": "Python 3"
    },
    "accelerator": "GPU"
  },
  "cells": [
    {
      "cell_type": "markdown",
      "metadata": {
        "id": "view-in-github",
        "colab_type": "text"
      },
      "source": [
        "<a href=\"https://colab.research.google.com/github/cleysonl/Pytorch/blob/master/CNN.ipynb\" target=\"_parent\"><img src=\"https://colab.research.google.com/assets/colab-badge.svg\" alt=\"Open In Colab\"/></a>"
      ]
    },
    {
      "cell_type": "markdown",
      "metadata": {
        "id": "IMkAx5h3Q5Rn",
        "colab_type": "text"
      },
      "source": [
        "# **CNN MNIST with PyTorch**"
      ]
    },
    {
      "cell_type": "code",
      "metadata": {
        "id": "33JlWyNSlndP",
        "colab_type": "code",
        "outputId": "1a635604-e236-43f8-d7f8-bedff0e9ca34",
        "colab": {
          "base_uri": "https://localhost:8080/",
          "height": 139
        }
      },
      "source": [
        "!pip install torch torchvision"
      ],
      "execution_count": 15,
      "outputs": [
        {
          "output_type": "stream",
          "text": [
            "Requirement already satisfied: torch in /usr/local/lib/python3.6/dist-packages (1.3.0+cu100)\n",
            "Requirement already satisfied: torchvision in /usr/local/lib/python3.6/dist-packages (0.4.1+cu100)\n",
            "Requirement already satisfied: numpy in /usr/local/lib/python3.6/dist-packages (from torch) (1.17.3)\n",
            "Requirement already satisfied: six in /usr/local/lib/python3.6/dist-packages (from torchvision) (1.12.0)\n",
            "Requirement already satisfied: pillow>=4.1.1 in /usr/local/lib/python3.6/dist-packages (from torchvision) (4.3.0)\n",
            "Requirement already satisfied: olefile in /usr/local/lib/python3.6/dist-packages (from pillow>=4.1.1->torchvision) (0.46)\n"
          ],
          "name": "stdout"
        }
      ]
    },
    {
      "cell_type": "code",
      "metadata": {
        "id": "f3d9oa9WRAXX",
        "colab_type": "code",
        "colab": {}
      },
      "source": [
        "import torch\n",
        "import matplotlib.pyplot as plt\n",
        "import numpy as np\n",
        "import torch.nn.functional as F\n",
        "from torch import nn\n",
        "from torchvision import datasets, transforms"
      ],
      "execution_count": 0,
      "outputs": []
    },
    {
      "cell_type": "markdown",
      "metadata": {
        "id": "XJMI8ebqBqRJ",
        "colab_type": "text"
      },
      "source": [
        "## **Initializing GPU usage**"
      ]
    },
    {
      "cell_type": "code",
      "metadata": {
        "id": "hoBkKP5OBxwx",
        "colab_type": "code",
        "colab": {}
      },
      "source": [
        "device = torch.device(\"cuda:0\" if torch.cuda.is_available() else \"cpu\")"
      ],
      "execution_count": 0,
      "outputs": []
    },
    {
      "cell_type": "markdown",
      "metadata": {
        "id": "v8fxwzIrRTLo",
        "colab_type": "text"
      },
      "source": [
        "## **Transformations**"
      ]
    },
    {
      "cell_type": "code",
      "metadata": {
        "id": "JYUx-Mo4RP82",
        "colab_type": "code",
        "colab": {}
      },
      "source": [
        "transform = transforms.Compose([transforms.Resize((28,28)),\n",
        "                                 transforms.ToTensor(),\n",
        "                                 transforms.Normalize((0.5, ), (0.5, ))\n",
        "                                 ])\n",
        "\n",
        "training_dataset = datasets.MNIST(root = './data', train = True, download = True, transform = transform)\n",
        "validation_dataset = datasets.MNIST(root = './data', train = False, download = True, transform = transform)\n",
        "\n",
        "#Loaders\n",
        "training_loader = torch.utils.data.DataLoader(training_dataset, batch_size = 100, shuffle = True)\n",
        "validation_loader = torch.utils.data.DataLoader(validation_dataset, batch_size = 100, shuffle = True)\n"
      ],
      "execution_count": 0,
      "outputs": []
    },
    {
      "cell_type": "markdown",
      "metadata": {
        "id": "z0IPtSt1DaVD",
        "colab_type": "text"
      },
      "source": [
        "## **Numpy Image Conversion Function**"
      ]
    },
    {
      "cell_type": "code",
      "metadata": {
        "id": "9m_-EOiyRWUv",
        "colab_type": "code",
        "colab": {}
      },
      "source": [
        "def im_convert(tensor):\n",
        "  image = tensor.cpu().clone().detach().numpy() \n",
        "  image = image.transpose(1,2,0) # (28,28,1)\n",
        "  image = image[:,:,0]\n",
        "  image = image.clip(0,1)\n",
        "  return image"
      ],
      "execution_count": 0,
      "outputs": []
    },
    {
      "cell_type": "markdown",
      "metadata": {
        "id": "v8_-quHgF2Ag",
        "colab_type": "text"
      },
      "source": [
        "## **Plotting Image Data**"
      ]
    },
    {
      "cell_type": "code",
      "metadata": {
        "id": "qVfnMv0XDekH",
        "colab_type": "code",
        "outputId": "c339db7b-0edb-479d-a9b0-96bfb0045b75",
        "colab": {
          "base_uri": "https://localhost:8080/",
          "height": 288
        }
      },
      "source": [
        "dataiter = iter(training_loader)\n",
        "images, labels = dataiter.next()\n",
        "fig = plt.figure(figsize=(25,4))\n",
        "\n",
        "for idx in np.arange(20):\n",
        "  ax = fig.add_subplot(2, 10, idx+1, xticks=[], yticks=[])\n",
        "  plt.imshow(im_convert(images[idx]))\n",
        "  ax.set_title(labels[idx].item())"
      ],
      "execution_count": 20,
      "outputs": [
        {
          "output_type": "display_data",
          "data": {
            "image/png": "[encoded data removed]",
            "text/plain": [
              "<Figure size 1800x288 with 20 Axes>"
            ]
          },
          "metadata": {
            "tags": []
          }
        }
      ]
    },
    {
      "cell_type": "markdown",
      "metadata": {
        "id": "cmnxaeh9G5pa",
        "colab_type": "text"
      },
      "source": [
        "## **Model Class Constructor**"
      ]
    },
    {
      "cell_type": "code",
      "metadata": {
        "id": "JYKcmYxpGxwC",
        "colab_type": "code",
        "colab": {}
      },
      "source": [
        "class LeNet(nn.Module):\n",
        "  def __init__(self):\n",
        "    super().__init__()\n",
        "    self.conv1 = nn.Conv2d(1, 20, 5, 1)\n",
        "    self.conv2 = nn.Conv2d(20, 50, 5, 1)\n",
        "    self.fc1 = nn.Linear(4*4*50, 500)\n",
        "    self.dropout1 = nn.Dropout(0.5)\n",
        "    self.fc2 = nn.Linear(500,10)\n",
        "  def forward(self, x):\n",
        "    x = F.relu(self.conv1(x))\n",
        "    x = F.max_pool2d(x, 2, 2)\n",
        "    x = F.relu(self.conv2(x))\n",
        "    x = F.max_pool2d(x, 2, 2)\n",
        "    x = x.view(-1, 4*4*50)\n",
        "    x = F.relu(self.fc1(x))\n",
        "    x = self.dropout1(x)\n",
        "    x= self.fc2(x)\n",
        "    return x"
      ],
      "execution_count": 0,
      "outputs": []
    },
    {
      "cell_type": "code",
      "metadata": {
        "id": "8-XEvACbG84x",
        "colab_type": "code",
        "outputId": "6acffb8f-3162-451f-af25-7f4afaf2f075",
        "colab": {
          "base_uri": "https://localhost:8080/",
          "height": 136
        }
      },
      "source": [
        "model = LeNet().to(device)\n",
        "model"
      ],
      "execution_count": 22,
      "outputs": [
        {
          "output_type": "execute_result",
          "data": {
            "text/plain": [
              "LeNet(\n",
              "  (conv1): Conv2d(1, 20, kernel_size=(5, 5), stride=(1, 1))\n",
              "  (conv2): Conv2d(20, 50, kernel_size=(5, 5), stride=(1, 1))\n",
              "  (fc1): Linear(in_features=800, out_features=500, bias=True)\n",
              "  (dropout1): Dropout(p=0.5, inplace=False)\n",
              "  (fc2): Linear(in_features=500, out_features=10, bias=True)\n",
              ")"
            ]
          },
          "metadata": {
            "tags": []
          },
          "execution_count": 22
        }
      ]
    },
    {
      "cell_type": "markdown",
      "metadata": {
        "id": "NcLboqDrLdP4",
        "colab_type": "text"
      },
      "source": [
        "## **Loss and Optimizer**"
      ]
    },
    {
      "cell_type": "code",
      "metadata": {
        "id": "lmle6Y7nLbyn",
        "colab_type": "code",
        "colab": {}
      },
      "source": [
        "criterion = nn.CrossEntropyLoss()\n",
        "optimizer = torch.optim.Adam(model.parameters(), lr = 0.0001)"
      ],
      "execution_count": 0,
      "outputs": []
    },
    {
      "cell_type": "markdown",
      "metadata": {
        "id": "qhauuYBOLwoE",
        "colab_type": "text"
      },
      "source": [
        "## **Training Process**"
      ]
    },
    {
      "cell_type": "code",
      "metadata": {
        "id": "wtoZfZFlLvgT",
        "colab_type": "code",
        "outputId": "0cb64f2d-fec8-4568-837d-ce1c2331bff8",
        "colab": {
          "base_uri": "https://localhost:8080/",
          "height": 782
        }
      },
      "source": [
        "epochs = 15\n",
        "running_loss_history = []\n",
        "running_corrects_history = []\n",
        "val_running_loss_history = []\n",
        "val_running_corrects_history = []\n",
        "\n",
        "for e in range(epochs):\n",
        "  running_loss = 0.0\n",
        "  running_corrects = 0.0\n",
        "  val_running_loss = 0.0\n",
        "  val_running_corrects = 0.0\n",
        "\n",
        "  for inputs, labels in training_loader:\n",
        "    inputs = inputs.to(device)\n",
        "    labels = labels.to(device)\n",
        "    outputs = model(inputs)\n",
        "    loss = criterion(outputs, labels)\n",
        "\n",
        "    optimizer.zero_grad()\n",
        "    loss.backward()\n",
        "    optimizer.step()\n",
        "\n",
        "    _, preds = torch.max(outputs, 1)\n",
        "    running_loss += loss.item()\n",
        "    running_corrects += torch.sum(preds == labels.data)\n",
        "\n",
        "  else:\n",
        "    with torch.no_grad():\n",
        "      for val_inputs, val_labels in validation_loader:\n",
        "        val_inputs = val_inputs.to(device)\n",
        "        val_labels = val_labels.to(device)\n",
        "        val_outputs = model(val_inputs)\n",
        "        val_loss = criterion(val_outputs, val_labels)\n",
        "\n",
        "        _, val_preds = torch.max(val_outputs, 1)\n",
        "        val_running_loss += val_loss.item()\n",
        "        val_running_corrects += torch.sum(val_preds == val_labels.data)\n",
        "\n",
        "    epoch_loss = running_loss/len(training_loader)\n",
        "    epoch_acc = running_corrects.float()/len(training_loader)\n",
        "    running_loss_history.append(epoch_loss)\n",
        "    running_corrects_history.append(epoch_acc)\n",
        "\n",
        "    val_epoch_loss = val_running_loss/len(validation_loader)\n",
        "    val_epoch_acc = val_running_corrects.float()/len(validation_loader)\n",
        "    val_running_loss_history.append(val_epoch_loss)\n",
        "    val_running_corrects_history.append(val_epoch_acc)\n",
        "  \n",
        "    print('epoch :', (e+1))\n",
        "    print('training loss: {:.4f}, acc {:.4f} '.format(epoch_loss, epoch_acc.item()))\n",
        "    print('validation loss: {:.4f}, validation acc {:.4f} '.format(val_epoch_loss, val_epoch_acc.item()))\n"
      ],
      "execution_count": 24,
      "outputs": [
        {
          "output_type": "stream",
          "text": [
            "epoch : 1\n",
            "training loss: 0.5530, acc 85.3167 \n",
            "validation loss: 0.1727, validation acc 95.3300 \n",
            "epoch : 2\n",
            "training loss: 0.1445, acc 95.7867 \n",
            "validation loss: 0.1023, validation acc 96.8300 \n",
            "epoch : 3\n",
            "training loss: 0.0974, acc 97.0733 \n",
            "validation loss: 0.0792, validation acc 97.5500 \n",
            "epoch : 4\n",
            "training loss: 0.0773, acc 97.6767 \n",
            "validation loss: 0.0580, validation acc 98.1800 \n",
            "epoch : 5\n",
            "training loss: 0.0636, acc 98.0750 \n",
            "validation loss: 0.0555, validation acc 98.2400 \n",
            "epoch : 6\n",
            "training loss: 0.0562, acc 98.3050 \n",
            "validation loss: 0.0477, validation acc 98.5500 \n",
            "epoch : 7\n",
            "training loss: 0.0485, acc 98.5083 \n",
            "validation loss: 0.0422, validation acc 98.5700 \n",
            "epoch : 8\n",
            "training loss: 0.0440, acc 98.6733 \n",
            "validation loss: 0.0396, validation acc 98.7700 \n",
            "epoch : 9\n",
            "training loss: 0.0389, acc 98.8417 \n",
            "validation loss: 0.0384, validation acc 98.7600 \n",
            "epoch : 10\n",
            "training loss: 0.0362, acc 98.8817 \n",
            "validation loss: 0.0362, validation acc 98.7800 \n",
            "epoch : 11\n",
            "training loss: 0.0329, acc 98.9783 \n",
            "validation loss: 0.0354, validation acc 98.8600 \n",
            "epoch : 12\n",
            "training loss: 0.0295, acc 99.0517 \n",
            "validation loss: 0.0321, validation acc 98.9200 \n",
            "epoch : 13\n",
            "training loss: 0.0290, acc 99.1167 \n",
            "validation loss: 0.0320, validation acc 99.0500 \n",
            "epoch : 14\n",
            "training loss: 0.0261, acc 99.1733 \n",
            "validation loss: 0.0302, validation acc 99.0000 \n",
            "epoch : 15\n",
            "training loss: 0.0231, acc 99.2867 \n",
            "validation loss: 0.0316, validation acc 98.9400 \n"
          ],
          "name": "stdout"
        }
      ]
    },
    {
      "cell_type": "markdown",
      "metadata": {
        "id": "uhUjRVA9QYTe",
        "colab_type": "text"
      },
      "source": [
        "## **Plot Training and Validation Loss**"
      ]
    },
    {
      "cell_type": "code",
      "metadata": {
        "id": "HhiEezJvQMrd",
        "colab_type": "code",
        "outputId": "26c83f89-ed5d-4dba-c222-ea980a921f32",
        "colab": {
          "base_uri": "https://localhost:8080/",
          "height": 282
        }
      },
      "source": [
        "plt.plot(running_loss_history, label='training loss')\n",
        "plt.plot(val_running_loss_history, label = 'validation loss')\n",
        "plt.legend()"
      ],
      "execution_count": 25,
      "outputs": [
        {
          "output_type": "execute_result",
          "data": {
            "text/plain": [
              "<matplotlib.legend.Legend at 0x7fc751dc1278>"
            ]
          },
          "metadata": {
            "tags": []
          },
          "execution_count": 25
        },
        {
          "output_type": "display_data",
          "data": {
            "image/png": "[encoded data removed]",
            "text/plain": [
              "<Figure size 432x288 with 1 Axes>"
            ]
          },
          "metadata": {
            "tags": []
          }
        }
      ]
    },
    {
      "cell_type": "markdown",
      "metadata": {
        "id": "km99KNW7SWEj",
        "colab_type": "text"
      },
      "source": [
        "## **Plotting Accuracy**"
      ]
    },
    {
      "cell_type": "code",
      "metadata": {
        "id": "cKZhJR3KQxFo",
        "colab_type": "code",
        "colab": {
          "base_uri": "https://localhost:8080/",
          "height": 282
        },
        "outputId": "e5ca6666-5369-4898-f6a9-b60f8108ec45"
      },
      "source": [
        "plt.plot(running_corrects_history, label = 'training accuracy')\n",
        "plt.plot(val_running_corrects_history, label = 'validation accuracy')\n",
        "plt.legend()"
      ],
      "execution_count": 26,
      "outputs": [
        {
          "output_type": "execute_result",
          "data": {
            "text/plain": [
              "<matplotlib.legend.Legend at 0x7fc751dee3c8>"
            ]
          },
          "metadata": {
            "tags": []
          },
          "execution_count": 26
        },
        {
          "output_type": "display_data",
          "data": {
            "image/png": "[encoded data removed]",
            "text/plain": [
              "<Figure size 432x288 with 1 Axes>"
            ]
          },
          "metadata": {
            "tags": []
          }
        }
      ]
    },
    {
      "cell_type": "code",
      "metadata": {
        "id": "ew-GW5cPQcSz",
        "colab_type": "code",
        "colab": {}
      },
      "source": [
        ""
      ],
      "execution_count": 0,
      "outputs": []
    }
  ]
}